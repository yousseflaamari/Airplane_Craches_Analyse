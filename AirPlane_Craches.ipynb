{
 "cells": [
  {
   "cell_type": "code",
   "execution_count": 12,
   "id": "fb272df6",
   "metadata": {},
   "outputs": [],
   "source": [
    "import pandas as pd\n",
    "import numpy as np\n",
    "import matplotlib.pyplot as plt\n",
    "import seaborn as sns"
   ]
  },
  {
   "cell_type": "code",
   "execution_count": 13,
   "id": "2e8ccde6",
   "metadata": {},
   "outputs": [
    {
     "name": "stdout",
     "output_type": "stream",
     "text": [
      "             ID  Price  Levy   Manufacturer    Model  Prod. year   Category  \\\n",
      "0      45654403  13328  1399          LEXUS   RX 450        2010       Jeep   \n",
      "1      44731507  16621  1018      CHEVROLET  Equinox        2011       Jeep   \n",
      "2      45774419   8467     -          HONDA      FIT        2006  Hatchback   \n",
      "3      45769185   3607   862           FORD   Escape        2011       Jeep   \n",
      "4      45809263  11726   446          HONDA      FIT        2014  Hatchback   \n",
      "...         ...    ...   ...            ...      ...         ...        ...   \n",
      "19232  45798355   8467     -  MERCEDES-BENZ  CLK 200        1999      Coupe   \n",
      "19233  45778856  15681   831        HYUNDAI   Sonata        2011      Sedan   \n",
      "19234  45804997  26108   836        HYUNDAI   Tucson        2010       Jeep   \n",
      "19235  45793526   5331  1288      CHEVROLET  Captiva        2007       Jeep   \n",
      "19236  45813273    470   753        HYUNDAI   Sonata        2012      Sedan   \n",
      "\n",
      "      Leather interior Fuel type Engine volume    Mileage  Cylinders  \\\n",
      "0                  Yes    Hybrid           3.5  186005 km        6.0   \n",
      "1                   No    Petrol             3  192000 km        6.0   \n",
      "2                   No    Petrol           1.3  200000 km        4.0   \n",
      "3                  Yes    Hybrid           2.5  168966 km        4.0   \n",
      "4                  Yes    Petrol           1.3   91901 km        4.0   \n",
      "...                ...       ...           ...        ...        ...   \n",
      "19232              Yes       CNG     2.0 Turbo  300000 km        4.0   \n",
      "19233              Yes    Petrol           2.4  161600 km        4.0   \n",
      "19234              Yes    Diesel             2  116365 km        4.0   \n",
      "19235              Yes    Diesel             2   51258 km        4.0   \n",
      "19236              Yes    Hybrid           2.4  186923 km        4.0   \n",
      "\n",
      "      Gear box type Drive wheels   Doors             Wheel   Color  Airbags  \n",
      "0         Automatic          4x4  04-May        Left wheel  Silver       12  \n",
      "1         Tiptronic          4x4  04-May        Left wheel   Black        8  \n",
      "2          Variator        Front  04-May  Right-hand drive   Black        2  \n",
      "3         Automatic          4x4  04-May        Left wheel   White        0  \n",
      "4         Automatic        Front  04-May        Left wheel  Silver        4  \n",
      "...             ...          ...     ...               ...     ...      ...  \n",
      "19232        Manual         Rear  02-Mar        Left wheel  Silver        5  \n",
      "19233     Tiptronic        Front  04-May        Left wheel     Red        8  \n",
      "19234     Automatic        Front  04-May        Left wheel    Grey        4  \n",
      "19235     Automatic        Front  04-May        Left wheel   Black        4  \n",
      "19236     Automatic        Front  04-May        Left wheel   White       12  \n",
      "\n",
      "[19237 rows x 18 columns]\n"
     ]
    }
   ],
   "source": [
    "df = pd.read_csv(\"car_price_prediction.csv\")\n",
    "print(df)"
   ]
  },
  {
   "cell_type": "code",
   "execution_count": 14,
   "id": "a4427ec5",
   "metadata": {},
   "outputs": [
    {
     "name": "stdout",
     "output_type": "stream",
     "text": [
      "['3.5' '3' '1.3' '2.5' '2' '1.8' '2.4' '4' '1.6' '3.3' '2.0 Turbo'\n",
      " '2.2 Turbo' '4.7' '1.5' '4.4' '3.0 Turbo' '1.4 Turbo' '3.6' '2.3'\n",
      " '1.5 Turbo' '1.6 Turbo' '2.2' '2.3 Turbo' '1.4' '5.5' '2.8 Turbo' '3.2'\n",
      " '3.8' '4.6' '1.2' '5' '1.7' '2.9' '0.5' '1.8 Turbo' '2.4 Turbo'\n",
      " '3.5 Turbo' '1.9' '2.7' '4.8' '5.3' '0.4' '2.8' '3.2 Turbo' '1.1' '2.1'\n",
      " '0.7' '5.4' '1.3 Turbo' '3.7' '1' '2.5 Turbo' '2.6' '1.9 Turbo'\n",
      " '4.4 Turbo' '4.7 Turbo' '0.8' '0.2 Turbo' '5.7' '4.8 Turbo' '4.6 Turbo'\n",
      " '6.7' '6.2' '1.2 Turbo' '3.4' '1.7 Turbo' '6.3 Turbo' '2.7 Turbo' '4.3'\n",
      " '4.2' '2.9 Turbo' '0' '4.0 Turbo' '20' '3.6 Turbo' '0.3' '3.7 Turbo'\n",
      " '5.9' '5.5 Turbo' '0.2' '2.1 Turbo' '5.6' '6' '0.7 Turbo' '0.6 Turbo'\n",
      " '6.8' '4.5' '0.6' '7.3' '0.1' '1.0 Turbo' '6.3' '4.5 Turbo' '0.8 Turbo'\n",
      " '4.2 Turbo' '3.1' '5.0 Turbo' '6.4' '3.9' '5.7 Turbo' '0.9' '0.4 Turbo'\n",
      " '5.4 Turbo' '0.3 Turbo' '5.2' '5.8' '1.1 Turbo']\n"
     ]
    }
   ],
   "source": [
    "dl  = df[\"Engine volume\"].unique()\n",
    "print(dl)"
   ]
  },
  {
   "cell_type": "code",
   "execution_count": 18,
   "id": "c280c540",
   "metadata": {},
   "outputs": [
    {
     "name": "stdout",
     "output_type": "stream",
     "text": [
      "0         3.5\n",
      "1           3\n",
      "2         1.3\n",
      "3         2.5\n",
      "4         1.3\n",
      "         ... \n",
      "19232    2.0 \n",
      "19233     2.4\n",
      "19234       2\n",
      "19235       2\n",
      "19236     2.4\n",
      "Name: Engine volume, Length: 19237, dtype: object\n"
     ]
    }
   ],
   "source": [
    "df[\"Engine volume\"] = df[\"Engine volume\"].str.replace('Turbo','')\n",
    "\n",
    "\n",
    "lk = df[\"Engine volume\"]\n",
    "print(lk)"
   ]
  },
  {
   "cell_type": "code",
   "execution_count": 20,
   "id": "678a4a60",
   "metadata": {},
   "outputs": [
    {
     "name": "stdout",
     "output_type": "stream",
     "text": [
      "             ID  Price  Levy   Manufacturer    Model  Prod. year   Category  \\\n",
      "0      45654403  13328  1399          LEXUS   RX 450        2010       Jeep   \n",
      "1      44731507  16621  1018      CHEVROLET  Equinox        2011       Jeep   \n",
      "2      45774419   8467     -          HONDA      FIT        2006  Hatchback   \n",
      "3      45769185   3607   862           FORD   Escape        2011       Jeep   \n",
      "4      45809263  11726   446          HONDA      FIT        2014  Hatchback   \n",
      "...         ...    ...   ...            ...      ...         ...        ...   \n",
      "19232  45798355   8467     -  MERCEDES-BENZ  CLK 200        1999      Coupe   \n",
      "19233  45778856  15681   831        HYUNDAI   Sonata        2011      Sedan   \n",
      "19234  45804997  26108   836        HYUNDAI   Tucson        2010       Jeep   \n",
      "19235  45793526   5331  1288      CHEVROLET  Captiva        2007       Jeep   \n",
      "19236  45813273    470   753        HYUNDAI   Sonata        2012      Sedan   \n",
      "\n",
      "      Leather interior Fuel type Engine volume    Mileage  Cylinders  \\\n",
      "0                  Yes    Hybrid           3.5  186005 km        6.0   \n",
      "1                   No    Petrol             3  192000 km        6.0   \n",
      "2                   No    Petrol           1.3  200000 km        4.0   \n",
      "3                  Yes    Hybrid           2.5  168966 km        4.0   \n",
      "4                  Yes    Petrol           1.3   91901 km        4.0   \n",
      "...                ...       ...           ...        ...        ...   \n",
      "19232              Yes       CNG          2.0   300000 km        4.0   \n",
      "19233              Yes    Petrol           2.4  161600 km        4.0   \n",
      "19234              Yes    Diesel             2  116365 km        4.0   \n",
      "19235              Yes    Diesel             2   51258 km        4.0   \n",
      "19236              Yes    Hybrid           2.4  186923 km        4.0   \n",
      "\n",
      "      Gear box type Drive wheels   Doors             Wheel   Color  Airbags  \n",
      "0         Automatic          4x4  04-May        Left wheel  Silver       12  \n",
      "1         Tiptronic          4x4  04-May        Left wheel   Black        8  \n",
      "2          Variator        Front  04-May  Right-hand drive   Black        2  \n",
      "3         Automatic          4x4  04-May        Left wheel   White        0  \n",
      "4         Automatic        Front  04-May        Left wheel  Silver        4  \n",
      "...             ...          ...     ...               ...     ...      ...  \n",
      "19232        Manual         Rear  02-Mar        Left wheel  Silver        5  \n",
      "19233     Tiptronic        Front  04-May        Left wheel     Red        8  \n",
      "19234     Automatic        Front  04-May        Left wheel    Grey        4  \n",
      "19235     Automatic        Front  04-May        Left wheel   Black        4  \n",
      "19236     Automatic        Front  04-May        Left wheel   White       12  \n",
      "\n",
      "[19237 rows x 18 columns]\n"
     ]
    }
   ],
   "source": [
    "print(df)"
   ]
  }
 ],
 "metadata": {
  "kernelspec": {
   "display_name": "Python 3 (ipykernel)",
   "language": "python",
   "name": "python3"
  },
  "language_info": {
   "codemirror_mode": {
    "name": "ipython",
    "version": 3
   },
   "file_extension": ".py",
   "mimetype": "text/x-python",
   "name": "python",
   "nbconvert_exporter": "python",
   "pygments_lexer": "ipython3",
   "version": "3.10.9"
  }
 },
 "nbformat": 4,
 "nbformat_minor": 5
}
